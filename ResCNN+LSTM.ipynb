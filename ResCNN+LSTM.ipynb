{
 "cells": [
  {
   "cell_type": "code",
   "execution_count": 1,
   "metadata": {
    "_cell_guid": "b1076dfc-b9ad-4769-8c92-a6c4dae69d19",
    "_uuid": "8f2839f25d086af736a60e9eeb907d3b93b6e0e5",
    "execution": {
     "iopub.execute_input": "2022-05-08T13:20:24.060454Z",
     "iopub.status.busy": "2022-05-08T13:20:24.060134Z",
     "iopub.status.idle": "2022-05-08T13:20:29.802025Z",
     "shell.execute_reply": "2022-05-08T13:20:29.801039Z",
     "shell.execute_reply.started": "2022-05-08T13:20:24.060356Z"
    }
   },
   "outputs": [
    {
     "name": "stderr",
     "output_type": "stream",
     "text": [
      "/home/fyp_rm2022/anaconda3/lib/python3.7/site-packages/statsmodels/tools/_testing.py:19: FutureWarning: pandas.util.testing is deprecated. Use the functions in the public API at pandas.testing instead.\n",
      "  import pandas.util.testing as tm\n"
     ]
    }
   ],
   "source": [
    "import tensorflow as tf\n",
    "import numpy as np # linear algebra\n",
    "import pandas as pd # data processing, CSV file I/O (e.g. pd.read_csv)\n",
    "import pywt, math\n",
    "\n",
    "import seaborn as sns\n",
    "import matplotlib\n",
    "\n",
    "from matplotlib import pyplot as plt\n",
    "from tensorflow.keras import Input\n",
    "from tensorflow.keras.layers import *\n",
    "from tensorflow.keras.models import Model, load_model, save_model\n",
    "\n",
    "sns.set_style('whitegrid')\n",
    "plt.style.use(\"fivethirtyeight\")\n",
    "%matplotlib inline"
   ]
  },
  {
   "cell_type": "code",
   "execution_count": 2,
   "metadata": {},
   "outputs": [],
   "source": [
    "import time\n",
    "\n",
    "apple = pd.read_csv(\"APPLE.csv\", encoding=\"utf8\").set_index(\"Date\").Actual_Price\n",
    "ls  = [time.strftime(\"%Y-%m-%d\", time.strptime(i, \"%Y/%m/%d\")) for i in apple.index]\n",
    "apple.index = ls\n",
    "# df = pd.read_csv(\"newdata.csv\", encoding=\"utf8\").set_index(\"Date\")\n",
    "# display(df.head())\n",
    "tmp = pd.read_csv(\"sp500.csv\", encoding=\"utf8\")\n",
    "tmp = tmp.set_index(\"Date\")\n",
    "tmp[\"APPLE\"] = apple\n",
    "df = tmp"
   ]
  },
  {
   "cell_type": "code",
   "execution_count": 3,
   "metadata": {
    "execution": {
     "iopub.execute_input": "2022-05-08T13:20:29.839828Z",
     "iopub.status.busy": "2022-05-08T13:20:29.839441Z",
     "iopub.status.idle": "2022-05-08T13:20:29.848923Z",
     "shell.execute_reply": "2022-05-08T13:20:29.848106Z",
     "shell.execute_reply.started": "2022-05-08T13:20:29.839793Z"
    }
   },
   "outputs": [
    {
     "data": {
      "text/plain": [
       "Open         0\n",
       "High         0\n",
       "Low          0\n",
       "Close        0\n",
       "Adj Close    0\n",
       "Volume       0\n",
       "APPLE        0\n",
       "dtype: int64"
      ]
     },
     "execution_count": 3,
     "metadata": {},
     "output_type": "execute_result"
    }
   ],
   "source": [
    "np.sum(df.isna())"
   ]
  },
  {
   "cell_type": "code",
   "execution_count": 4,
   "metadata": {
    "execution": {
     "iopub.execute_input": "2022-05-08T13:20:29.862816Z",
     "iopub.status.busy": "2022-05-08T13:20:29.862283Z",
     "iopub.status.idle": "2022-05-08T13:20:29.882988Z",
     "shell.execute_reply": "2022-05-08T13:20:29.882104Z",
     "shell.execute_reply.started": "2022-05-08T13:20:29.862739Z"
    }
   },
   "outputs": [
    {
     "data": {
      "text/html": [
       "<div>\n",
       "<style scoped>\n",
       "    .dataframe tbody tr th:only-of-type {\n",
       "        vertical-align: middle;\n",
       "    }\n",
       "\n",
       "    .dataframe tbody tr th {\n",
       "        vertical-align: top;\n",
       "    }\n",
       "\n",
       "    .dataframe thead th {\n",
       "        text-align: right;\n",
       "    }\n",
       "</style>\n",
       "<table border=\"1\" class=\"dataframe\">\n",
       "  <thead>\n",
       "    <tr style=\"text-align: right;\">\n",
       "      <th></th>\n",
       "      <th>Open</th>\n",
       "      <th>High</th>\n",
       "      <th>Low</th>\n",
       "      <th>Close</th>\n",
       "      <th>Adj Close</th>\n",
       "      <th>Volume</th>\n",
       "      <th>APPLE</th>\n",
       "    </tr>\n",
       "    <tr>\n",
       "      <th>Date</th>\n",
       "      <th></th>\n",
       "      <th></th>\n",
       "      <th></th>\n",
       "      <th></th>\n",
       "      <th></th>\n",
       "      <th></th>\n",
       "      <th></th>\n",
       "    </tr>\n",
       "  </thead>\n",
       "  <tbody>\n",
       "    <tr>\n",
       "      <th>2015-12-31</th>\n",
       "      <td>2060.590088</td>\n",
       "      <td>2062.540039</td>\n",
       "      <td>2043.619995</td>\n",
       "      <td>2043.939941</td>\n",
       "      <td>2043.939941</td>\n",
       "      <td>2655330000</td>\n",
       "      <td>24.199888</td>\n",
       "    </tr>\n",
       "    <tr>\n",
       "      <th>2016-01-04</th>\n",
       "      <td>2038.199951</td>\n",
       "      <td>2038.199951</td>\n",
       "      <td>1989.680054</td>\n",
       "      <td>2012.660034</td>\n",
       "      <td>2012.660034</td>\n",
       "      <td>4304880000</td>\n",
       "      <td>24.220579</td>\n",
       "    </tr>\n",
       "    <tr>\n",
       "      <th>2016-01-05</th>\n",
       "      <td>2013.780029</td>\n",
       "      <td>2021.939941</td>\n",
       "      <td>2004.170044</td>\n",
       "      <td>2016.709961</td>\n",
       "      <td>2016.709961</td>\n",
       "      <td>3706620000</td>\n",
       "      <td>23.613626</td>\n",
       "    </tr>\n",
       "    <tr>\n",
       "      <th>2016-01-06</th>\n",
       "      <td>2011.709961</td>\n",
       "      <td>2011.709961</td>\n",
       "      <td>1979.050049</td>\n",
       "      <td>1990.260010</td>\n",
       "      <td>1990.260010</td>\n",
       "      <td>4336660000</td>\n",
       "      <td>23.151514</td>\n",
       "    </tr>\n",
       "    <tr>\n",
       "      <th>2016-01-07</th>\n",
       "      <td>1985.319946</td>\n",
       "      <td>1985.319946</td>\n",
       "      <td>1938.829956</td>\n",
       "      <td>1943.089966</td>\n",
       "      <td>1943.089966</td>\n",
       "      <td>5076590000</td>\n",
       "      <td>22.174414</td>\n",
       "    </tr>\n",
       "    <tr>\n",
       "      <th>...</th>\n",
       "      <td>...</td>\n",
       "      <td>...</td>\n",
       "      <td>...</td>\n",
       "      <td>...</td>\n",
       "      <td>...</td>\n",
       "      <td>...</td>\n",
       "      <td>...</td>\n",
       "    </tr>\n",
       "    <tr>\n",
       "      <th>2021-12-23</th>\n",
       "      <td>4703.959961</td>\n",
       "      <td>4740.740234</td>\n",
       "      <td>4703.959961</td>\n",
       "      <td>4725.790039</td>\n",
       "      <td>4725.790039</td>\n",
       "      <td>2194630000</td>\n",
       "      <td>176.055695</td>\n",
       "    </tr>\n",
       "    <tr>\n",
       "      <th>2021-12-27</th>\n",
       "      <td>4733.990234</td>\n",
       "      <td>4791.490234</td>\n",
       "      <td>4733.990234</td>\n",
       "      <td>4791.189941</td>\n",
       "      <td>4791.189941</td>\n",
       "      <td>2264120000</td>\n",
       "      <td>180.100540</td>\n",
       "    </tr>\n",
       "    <tr>\n",
       "      <th>2021-12-28</th>\n",
       "      <td>4795.490234</td>\n",
       "      <td>4807.020020</td>\n",
       "      <td>4780.040039</td>\n",
       "      <td>4786.350098</td>\n",
       "      <td>4786.350098</td>\n",
       "      <td>2217050000</td>\n",
       "      <td>179.061859</td>\n",
       "    </tr>\n",
       "    <tr>\n",
       "      <th>2021-12-29</th>\n",
       "      <td>4788.640137</td>\n",
       "      <td>4804.060059</td>\n",
       "      <td>4778.080078</td>\n",
       "      <td>4793.060059</td>\n",
       "      <td>4793.060059</td>\n",
       "      <td>2369370000</td>\n",
       "      <td>179.151749</td>\n",
       "    </tr>\n",
       "    <tr>\n",
       "      <th>2021-12-30</th>\n",
       "      <td>4794.229980</td>\n",
       "      <td>4808.930176</td>\n",
       "      <td>4775.330078</td>\n",
       "      <td>4778.729980</td>\n",
       "      <td>4778.729980</td>\n",
       "      <td>2390990000</td>\n",
       "      <td>177.973251</td>\n",
       "    </tr>\n",
       "  </tbody>\n",
       "</table>\n",
       "<p>1511 rows × 7 columns</p>\n",
       "</div>"
      ],
      "text/plain": [
       "                   Open         High          Low        Close    Adj Close  \\\n",
       "Date                                                                          \n",
       "2015-12-31  2060.590088  2062.540039  2043.619995  2043.939941  2043.939941   \n",
       "2016-01-04  2038.199951  2038.199951  1989.680054  2012.660034  2012.660034   \n",
       "2016-01-05  2013.780029  2021.939941  2004.170044  2016.709961  2016.709961   \n",
       "2016-01-06  2011.709961  2011.709961  1979.050049  1990.260010  1990.260010   \n",
       "2016-01-07  1985.319946  1985.319946  1938.829956  1943.089966  1943.089966   \n",
       "...                 ...          ...          ...          ...          ...   \n",
       "2021-12-23  4703.959961  4740.740234  4703.959961  4725.790039  4725.790039   \n",
       "2021-12-27  4733.990234  4791.490234  4733.990234  4791.189941  4791.189941   \n",
       "2021-12-28  4795.490234  4807.020020  4780.040039  4786.350098  4786.350098   \n",
       "2021-12-29  4788.640137  4804.060059  4778.080078  4793.060059  4793.060059   \n",
       "2021-12-30  4794.229980  4808.930176  4775.330078  4778.729980  4778.729980   \n",
       "\n",
       "                Volume       APPLE  \n",
       "Date                                \n",
       "2015-12-31  2655330000   24.199888  \n",
       "2016-01-04  4304880000   24.220579  \n",
       "2016-01-05  3706620000   23.613626  \n",
       "2016-01-06  4336660000   23.151514  \n",
       "2016-01-07  5076590000   22.174414  \n",
       "...                ...         ...  \n",
       "2021-12-23  2194630000  176.055695  \n",
       "2021-12-27  2264120000  180.100540  \n",
       "2021-12-28  2217050000  179.061859  \n",
       "2021-12-29  2369370000  179.151749  \n",
       "2021-12-30  2390990000  177.973251  \n",
       "\n",
       "[1511 rows x 7 columns]"
      ]
     },
     "execution_count": 4,
     "metadata": {},
     "output_type": "execute_result"
    }
   ],
   "source": [
    "df = df.dropna(axis=0)\n",
    "df"
   ]
  },
  {
   "cell_type": "code",
   "execution_count": 5,
   "metadata": {
    "execution": {
     "iopub.execute_input": "2022-05-08T13:20:29.884993Z",
     "iopub.status.busy": "2022-05-08T13:20:29.884377Z",
     "iopub.status.idle": "2022-05-08T13:20:29.914766Z",
     "shell.execute_reply": "2022-05-08T13:20:29.914121Z",
     "shell.execute_reply.started": "2022-05-08T13:20:29.884953Z"
    }
   },
   "outputs": [
    {
     "data": {
      "text/html": [
       "<div>\n",
       "<style scoped>\n",
       "    .dataframe tbody tr th:only-of-type {\n",
       "        vertical-align: middle;\n",
       "    }\n",
       "\n",
       "    .dataframe tbody tr th {\n",
       "        vertical-align: top;\n",
       "    }\n",
       "\n",
       "    .dataframe thead th {\n",
       "        text-align: right;\n",
       "    }\n",
       "</style>\n",
       "<table border=\"1\" class=\"dataframe\">\n",
       "  <thead>\n",
       "    <tr style=\"text-align: right;\">\n",
       "      <th></th>\n",
       "      <th>Open</th>\n",
       "      <th>High</th>\n",
       "      <th>Low</th>\n",
       "      <th>Close</th>\n",
       "      <th>Adj Close</th>\n",
       "      <th>Volume</th>\n",
       "      <th>APPLE</th>\n",
       "    </tr>\n",
       "  </thead>\n",
       "  <tbody>\n",
       "    <tr>\n",
       "      <th>count</th>\n",
       "      <td>1511.000000</td>\n",
       "      <td>1511.000000</td>\n",
       "      <td>1511.000000</td>\n",
       "      <td>1511.000000</td>\n",
       "      <td>1511.000000</td>\n",
       "      <td>1.511000e+03</td>\n",
       "      <td>1511.000000</td>\n",
       "    </tr>\n",
       "    <tr>\n",
       "      <th>mean</th>\n",
       "      <td>2947.316538</td>\n",
       "      <td>2961.847816</td>\n",
       "      <td>2931.637115</td>\n",
       "      <td>2947.931388</td>\n",
       "      <td>2947.931388</td>\n",
       "      <td>3.869822e+09</td>\n",
       "      <td>65.162859</td>\n",
       "    </tr>\n",
       "    <tr>\n",
       "      <th>std</th>\n",
       "      <td>715.939142</td>\n",
       "      <td>719.455673</td>\n",
       "      <td>713.133588</td>\n",
       "      <td>716.565165</td>\n",
       "      <td>716.565165</td>\n",
       "      <td>1.026917e+09</td>\n",
       "      <td>41.670392</td>\n",
       "    </tr>\n",
       "    <tr>\n",
       "      <th>min</th>\n",
       "      <td>1833.400024</td>\n",
       "      <td>1847.000000</td>\n",
       "      <td>1810.099976</td>\n",
       "      <td>1829.079956</td>\n",
       "      <td>1829.079956</td>\n",
       "      <td>1.296540e+09</td>\n",
       "      <td>21.009537</td>\n",
       "    </tr>\n",
       "    <tr>\n",
       "      <th>25%</th>\n",
       "      <td>2431.929932</td>\n",
       "      <td>2441.444946</td>\n",
       "      <td>2420.329956</td>\n",
       "      <td>2432.114990</td>\n",
       "      <td>2432.114990</td>\n",
       "      <td>3.251605e+09</td>\n",
       "      <td>35.896086</td>\n",
       "    </tr>\n",
       "    <tr>\n",
       "      <th>50%</th>\n",
       "      <td>2797.360107</td>\n",
       "      <td>2808.919922</td>\n",
       "      <td>2781.810059</td>\n",
       "      <td>2798.290039</td>\n",
       "      <td>2798.290039</td>\n",
       "      <td>3.620220e+09</td>\n",
       "      <td>46.565548</td>\n",
       "    </tr>\n",
       "    <tr>\n",
       "      <th>75%</th>\n",
       "      <td>3278.890015</td>\n",
       "      <td>3287.019897</td>\n",
       "      <td>3253.160034</td>\n",
       "      <td>3275.359985</td>\n",
       "      <td>3275.359985</td>\n",
       "      <td>4.182010e+09</td>\n",
       "      <td>90.426166</td>\n",
       "    </tr>\n",
       "    <tr>\n",
       "      <th>max</th>\n",
       "      <td>4795.490234</td>\n",
       "      <td>4808.930176</td>\n",
       "      <td>4780.040039</td>\n",
       "      <td>4793.060059</td>\n",
       "      <td>4793.060059</td>\n",
       "      <td>9.878040e+09</td>\n",
       "      <td>180.100540</td>\n",
       "    </tr>\n",
       "  </tbody>\n",
       "</table>\n",
       "</div>"
      ],
      "text/plain": [
       "              Open         High          Low        Close    Adj Close  \\\n",
       "count  1511.000000  1511.000000  1511.000000  1511.000000  1511.000000   \n",
       "mean   2947.316538  2961.847816  2931.637115  2947.931388  2947.931388   \n",
       "std     715.939142   719.455673   713.133588   716.565165   716.565165   \n",
       "min    1833.400024  1847.000000  1810.099976  1829.079956  1829.079956   \n",
       "25%    2431.929932  2441.444946  2420.329956  2432.114990  2432.114990   \n",
       "50%    2797.360107  2808.919922  2781.810059  2798.290039  2798.290039   \n",
       "75%    3278.890015  3287.019897  3253.160034  3275.359985  3275.359985   \n",
       "max    4795.490234  4808.930176  4780.040039  4793.060059  4793.060059   \n",
       "\n",
       "             Volume        APPLE  \n",
       "count  1.511000e+03  1511.000000  \n",
       "mean   3.869822e+09    65.162859  \n",
       "std    1.026917e+09    41.670392  \n",
       "min    1.296540e+09    21.009537  \n",
       "25%    3.251605e+09    35.896086  \n",
       "50%    3.620220e+09    46.565548  \n",
       "75%    4.182010e+09    90.426166  \n",
       "max    9.878040e+09   180.100540  "
      ]
     },
     "execution_count": 5,
     "metadata": {},
     "output_type": "execute_result"
    }
   ],
   "source": [
    "df.describe()"
   ]
  },
  {
   "cell_type": "code",
   "execution_count": 6,
   "metadata": {},
   "outputs": [
    {
     "data": {
      "text/plain": [
       "Open         0\n",
       "High         0\n",
       "Low          0\n",
       "Close        0\n",
       "Adj Close    0\n",
       "Volume       0\n",
       "APPLE        0\n",
       "dtype: int64"
      ]
     },
     "execution_count": 6,
     "metadata": {},
     "output_type": "execute_result"
    }
   ],
   "source": [
    "np.sum(df.isna())"
   ]
  },
  {
   "cell_type": "markdown",
   "metadata": {},
   "source": [
    "# Visualization"
   ]
  },
  {
   "cell_type": "code",
   "execution_count": 7,
   "metadata": {
    "execution": {
     "iopub.execute_input": "2022-05-08T13:20:29.950865Z",
     "iopub.status.busy": "2022-05-08T13:20:29.950267Z",
     "iopub.status.idle": "2022-05-08T13:20:30.258181Z",
     "shell.execute_reply": "2022-05-08T13:20:30.257519Z",
     "shell.execute_reply.started": "2022-05-08T13:20:29.950747Z"
    }
   },
   "outputs": [
    {
     "data": {
      "image/png": "[encoded data removed]",
      "text/plain": [
       "<Figure size 1152x432 with 1 Axes>"
      ]
     },
     "metadata": {
      "needs_background": "light"
     },
     "output_type": "display_data"
    }
   ],
   "source": [
    "idx = np.array(list(df.index))\n",
    "\n",
    "plt.figure(figsize=(16,6))\n",
    "plt.title('Close Price History')\n",
    "# plt.plot(df[[\"APPLE\", \"NVDA\", \"MSFT\", \"INTC\", \"GOOD\", \"NZ\"]], alpha=.5, linewidth=2)\n",
    "plt.plot(df[['Close', 'APPLE']], alpha=.5, linewidth=2)\n",
    "plt.legend(['Close', 'APPLE'], loc='upper left')\n",
    "plt.xticks([0, len(idx)//5, len(idx)//5*2, len(idx)//5*3, len(idx)//5*4, len(idx)-1], idx[[0, len(idx)//5, len(idx)//5*2, len(idx)//5*3, len(idx)//5*4, len(idx)-1]])\n",
    "plt.show()"
   ]
  },
  {
   "cell_type": "markdown",
   "metadata": {},
   "source": [
    "# Build up Models"
   ]
  },
  {
   "cell_type": "code",
   "execution_count": 8,
   "metadata": {
    "execution": {
     "iopub.execute_input": "2022-05-08T13:20:31.978016Z",
     "iopub.status.busy": "2022-05-08T13:20:31.977747Z",
     "iopub.status.idle": "2022-05-08T13:20:32.153164Z",
     "shell.execute_reply": "2022-05-08T13:20:32.152453Z",
     "shell.execute_reply.started": "2022-05-08T13:20:31.97798Z"
    }
   },
   "outputs": [],
   "source": [
    "def standardize(df, col=[], mu=None, st=None):\n",
    "    \"\"\"\n",
    "        Func:\n",
    "            to standardize the specific columns\n",
    "        \n",
    "        Args:\n",
    "            df: the feature data frame without label y\n",
    "            col: the columns that you want to standardize\n",
    "                 default to be all columns.\n",
    "                 \n",
    "        Returns:\n",
    "            1. The standardized data.\n",
    "            2. the mean\n",
    "            3. the standard variance\n",
    "    \"\"\"\n",
    "    if col == []:\n",
    "        col = df.columns\n",
    "    tmp = df.copy()\n",
    "    flag = False\n",
    "    if st == None or mu == None:\n",
    "        st, mu = df[col].std(), df[col].mean()\n",
    "        flag = True\n",
    "    tmp[col] = (df[col]-mu)/st\n",
    "    if flag:\n",
    "        return tmp, mu, st\n",
    "    else:\n",
    "        return tmp\n",
    "\n",
    "\n",
    "\n",
    "from tqdm import tqdm\n",
    "from sklearn.model_selection import train_test_split\n",
    "\n",
    "def take_windows(df, scales=[], window_len=60, sep=.8, y_col=-1):\n",
    "    \"\"\"\n",
    "        Func:\n",
    "            To take the windows preparing the data for training NN models\n",
    "            \n",
    "        Args:\n",
    "            df: the origin price dataframe\n",
    "            scalse: a list - which columns we should standardize\n",
    "            window_len: how many days a window covered (a batch) - default to be 60 days\n",
    "            sep: the proportion of the training set. set to False to advoid seperation\n",
    "            y_col: which column is y label\n",
    "    \"\"\"\n",
    "    scaled_data, mu, st = standardize(df, scales)\n",
    "    # Split the data into x_train and y_train data sets\n",
    "    x_train = []\n",
    "    y_train = []\n",
    "    \n",
    "    # find the column label\n",
    "    col = scaled_data.columns\n",
    "    if y_col != -1:\n",
    "        y_col = list(col).index(y_col)\n",
    "    \n",
    "    with tqdm(total=len(scaled_data)-window_len) as pbar:\n",
    "        pbar.set_description('Processing')\n",
    "        for i in range(window_len, len(scaled_data)):\n",
    "            x_train.append(np.array(scaled_data.iloc[i-window_len:i, :]))\n",
    "            y_train.append(np.array(scaled_data.iloc[i, y_col]))\n",
    "            pbar.update(1) # update the processing bar\n",
    "\n",
    "    # Convert the x_train and y_train to numpy arrays \n",
    "    #print(x_train)\n",
    "    x_train, y_train = np.array(x_train), np.array(y_train)\n",
    "\n",
    "    # Reshape the data\n",
    "    if len(x_train.shape) < 3:\n",
    "        x_train = np.reshape(x_train, (x_train.shape[0], x_train.shape[1], 1))\n",
    "    \n",
    "    if scales == []:\n",
    "        if sep:\n",
    "            sep_items = int(np.ceil(sep * len(y_train)))\n",
    "            x_test = x_train[sep_items:, :, :]\n",
    "            x_train = x_train[:sep_items, :, :]\n",
    "            y_test = y_train[sep_items:]\n",
    "            y_train = y_train[:sep_items]\n",
    "            return x_train, y_train, x_test, y_test\n",
    "\n",
    "        return x_train, y_train\n",
    "    else:\n",
    "        if sep:\n",
    "            sep_items = int(np.ceil(sep * len(y_train)))\n",
    "            x_test = x_train[sep_items:, :, :]\n",
    "            x_train = x_train[:sep_items, :, :]\n",
    "            y_test = y_train[sep_items:]\n",
    "            y_train = y_train[:sep_items]\n",
    "            return x_train, y_train, x_test, y_test, mu, st\n",
    "\n",
    "        return x_train, y_train, mu, st"
   ]
  },
  {
   "cell_type": "code",
   "execution_count": 9,
   "metadata": {},
   "outputs": [
    {
     "data": {
      "text/plain": [
       "Index(['Open', 'High', 'Low', 'Close', 'Adj Close', 'Volume', 'APPLE'], dtype='object')"
      ]
     },
     "execution_count": 9,
     "metadata": {},
     "output_type": "execute_result"
    }
   ],
   "source": [
    "df.columns"
   ]
  },
  {
   "cell_type": "code",
   "execution_count": 10,
   "metadata": {
    "execution": {
     "iopub.execute_input": "2022-05-08T13:20:32.156245Z",
     "iopub.status.busy": "2022-05-08T13:20:32.156026Z",
     "iopub.status.idle": "2022-05-08T13:20:32.173692Z",
     "shell.execute_reply": "2022-05-08T13:20:32.172979Z",
     "shell.execute_reply.started": "2022-05-08T13:20:32.156219Z"
    }
   },
   "outputs": [
    {
     "data": {
      "text/html": [
       "<div>\n",
       "<style scoped>\n",
       "    .dataframe tbody tr th:only-of-type {\n",
       "        vertical-align: middle;\n",
       "    }\n",
       "\n",
       "    .dataframe tbody tr th {\n",
       "        vertical-align: top;\n",
       "    }\n",
       "\n",
       "    .dataframe thead th {\n",
       "        text-align: right;\n",
       "    }\n",
       "</style>\n",
       "<table border=\"1\" class=\"dataframe\">\n",
       "  <thead>\n",
       "    <tr style=\"text-align: right;\">\n",
       "      <th></th>\n",
       "      <th>Open</th>\n",
       "      <th>High</th>\n",
       "      <th>Low</th>\n",
       "      <th>Close</th>\n",
       "      <th>Adj Close</th>\n",
       "      <th>Volume</th>\n",
       "      <th>APPLE</th>\n",
       "    </tr>\n",
       "    <tr>\n",
       "      <th>Date</th>\n",
       "      <th></th>\n",
       "      <th></th>\n",
       "      <th></th>\n",
       "      <th></th>\n",
       "      <th></th>\n",
       "      <th></th>\n",
       "      <th></th>\n",
       "    </tr>\n",
       "  </thead>\n",
       "  <tbody>\n",
       "    <tr>\n",
       "      <th>2015-12-31</th>\n",
       "      <td>2060.590088</td>\n",
       "      <td>2062.540039</td>\n",
       "      <td>2043.619995</td>\n",
       "      <td>2043.939941</td>\n",
       "      <td>2043.939941</td>\n",
       "      <td>2655330000</td>\n",
       "      <td>24.199888</td>\n",
       "    </tr>\n",
       "    <tr>\n",
       "      <th>2016-01-04</th>\n",
       "      <td>2038.199951</td>\n",
       "      <td>2038.199951</td>\n",
       "      <td>1989.680054</td>\n",
       "      <td>2012.660034</td>\n",
       "      <td>2012.660034</td>\n",
       "      <td>4304880000</td>\n",
       "      <td>24.220579</td>\n",
       "    </tr>\n",
       "    <tr>\n",
       "      <th>2016-01-05</th>\n",
       "      <td>2013.780029</td>\n",
       "      <td>2021.939941</td>\n",
       "      <td>2004.170044</td>\n",
       "      <td>2016.709961</td>\n",
       "      <td>2016.709961</td>\n",
       "      <td>3706620000</td>\n",
       "      <td>23.613626</td>\n",
       "    </tr>\n",
       "    <tr>\n",
       "      <th>2016-01-06</th>\n",
       "      <td>2011.709961</td>\n",
       "      <td>2011.709961</td>\n",
       "      <td>1979.050049</td>\n",
       "      <td>1990.260010</td>\n",
       "      <td>1990.260010</td>\n",
       "      <td>4336660000</td>\n",
       "      <td>23.151514</td>\n",
       "    </tr>\n",
       "    <tr>\n",
       "      <th>2016-01-07</th>\n",
       "      <td>1985.319946</td>\n",
       "      <td>1985.319946</td>\n",
       "      <td>1938.829956</td>\n",
       "      <td>1943.089966</td>\n",
       "      <td>1943.089966</td>\n",
       "      <td>5076590000</td>\n",
       "      <td>22.174414</td>\n",
       "    </tr>\n",
       "    <tr>\n",
       "      <th>...</th>\n",
       "      <td>...</td>\n",
       "      <td>...</td>\n",
       "      <td>...</td>\n",
       "      <td>...</td>\n",
       "      <td>...</td>\n",
       "      <td>...</td>\n",
       "      <td>...</td>\n",
       "    </tr>\n",
       "    <tr>\n",
       "      <th>2021-12-23</th>\n",
       "      <td>4703.959961</td>\n",
       "      <td>4740.740234</td>\n",
       "      <td>4703.959961</td>\n",
       "      <td>4725.790039</td>\n",
       "      <td>4725.790039</td>\n",
       "      <td>2194630000</td>\n",
       "      <td>176.055695</td>\n",
       "    </tr>\n",
       "    <tr>\n",
       "      <th>2021-12-27</th>\n",
       "      <td>4733.990234</td>\n",
       "      <td>4791.490234</td>\n",
       "      <td>4733.990234</td>\n",
       "      <td>4791.189941</td>\n",
       "      <td>4791.189941</td>\n",
       "      <td>2264120000</td>\n",
       "      <td>180.100540</td>\n",
       "    </tr>\n",
       "    <tr>\n",
       "      <th>2021-12-28</th>\n",
       "      <td>4795.490234</td>\n",
       "      <td>4807.020020</td>\n",
       "      <td>4780.040039</td>\n",
       "      <td>4786.350098</td>\n",
       "      <td>4786.350098</td>\n",
       "      <td>2217050000</td>\n",
       "      <td>179.061859</td>\n",
       "    </tr>\n",
       "    <tr>\n",
       "      <th>2021-12-29</th>\n",
       "      <td>4788.640137</td>\n",
       "      <td>4804.060059</td>\n",
       "      <td>4778.080078</td>\n",
       "      <td>4793.060059</td>\n",
       "      <td>4793.060059</td>\n",
       "      <td>2369370000</td>\n",
       "      <td>179.151749</td>\n",
       "    </tr>\n",
       "    <tr>\n",
       "      <th>2021-12-30</th>\n",
       "      <td>4794.229980</td>\n",
       "      <td>4808.930176</td>\n",
       "      <td>4775.330078</td>\n",
       "      <td>4778.729980</td>\n",
       "      <td>4778.729980</td>\n",
       "      <td>2390990000</td>\n",
       "      <td>177.973251</td>\n",
       "    </tr>\n",
       "  </tbody>\n",
       "</table>\n",
       "<p>1511 rows × 7 columns</p>\n",
       "</div>"
      ],
      "text/plain": [
       "                   Open         High          Low        Close    Adj Close  \\\n",
       "Date                                                                          \n",
       "2015-12-31  2060.590088  2062.540039  2043.619995  2043.939941  2043.939941   \n",
       "2016-01-04  2038.199951  2038.199951  1989.680054  2012.660034  2012.660034   \n",
       "2016-01-05  2013.780029  2021.939941  2004.170044  2016.709961  2016.709961   \n",
       "2016-01-06  2011.709961  2011.709961  1979.050049  1990.260010  1990.260010   \n",
       "2016-01-07  1985.319946  1985.319946  1938.829956  1943.089966  1943.089966   \n",
       "...                 ...          ...          ...          ...          ...   \n",
       "2021-12-23  4703.959961  4740.740234  4703.959961  4725.790039  4725.790039   \n",
       "2021-12-27  4733.990234  4791.490234  4733.990234  4791.189941  4791.189941   \n",
       "2021-12-28  4795.490234  4807.020020  4780.040039  4786.350098  4786.350098   \n",
       "2021-12-29  4788.640137  4804.060059  4778.080078  4793.060059  4793.060059   \n",
       "2021-12-30  4794.229980  4808.930176  4775.330078  4778.729980  4778.729980   \n",
       "\n",
       "                Volume       APPLE  \n",
       "Date                                \n",
       "2015-12-31  2655330000   24.199888  \n",
       "2016-01-04  4304880000   24.220579  \n",
       "2016-01-05  3706620000   23.613626  \n",
       "2016-01-06  4336660000   23.151514  \n",
       "2016-01-07  5076590000   22.174414  \n",
       "...                ...         ...  \n",
       "2021-12-23  2194630000  176.055695  \n",
       "2021-12-27  2264120000  180.100540  \n",
       "2021-12-28  2217050000  179.061859  \n",
       "2021-12-29  2369370000  179.151749  \n",
       "2021-12-30  2390990000  177.973251  \n",
       "\n",
       "[1511 rows x 7 columns]"
      ]
     },
     "execution_count": 10,
     "metadata": {},
     "output_type": "execute_result"
    }
   ],
   "source": [
    "# apple   = df[[\"APPLE\", \"APPLE_denoised\", \"APPLE_MACD\"]]\n",
    "# nvda    = df[[\"NVDA\", \"NVDA_denoised\", \"NVDA_MACD\"]]\n",
    "# msft    = df[[\"MSFT\", \"MSFT_denoised\", \"MSFT_MACD\"]]\n",
    "# intc    = df[[\"INTC\", \"INTC_denoised\", \"INTC_MACD\"]]\n",
    "# good    = df[[\"GOOD\", \"GOOD_denoised\", \"GOOD_MACD\"]]\n",
    "mix     = df[['Open', 'High', 'Low', 'Close', 'Adj Close', 'Volume', 'APPLE']]\n",
    "mix"
   ]
  },
  {
   "cell_type": "code",
   "execution_count": 11,
   "metadata": {
    "execution": {
     "iopub.execute_input": "2022-05-08T13:20:32.175965Z",
     "iopub.status.busy": "2022-05-08T13:20:32.175418Z",
     "iopub.status.idle": "2022-05-08T13:20:32.968524Z",
     "shell.execute_reply": "2022-05-08T13:20:32.967812Z",
     "shell.execute_reply.started": "2022-05-08T13:20:32.175921Z"
    }
   },
   "outputs": [
    {
     "name": "stderr",
     "output_type": "stream",
     "text": [
      "Processing: 100%|██████████| 1451/1451 [00:00<00:00, 6989.49it/s]\n"
     ]
    },
    {
     "data": {
      "text/plain": [
       "(1161, 60, 7)"
      ]
     },
     "execution_count": 11,
     "metadata": {},
     "output_type": "execute_result"
    }
   ],
   "source": [
    "training_x, training_y, test_x, test_y, mu, st = take_windows(mix, scales=list(mix.columns),\n",
    "                                                              window_len=60, sep=.8, y_col=\"APPLE\")\n",
    "training_x.shape"
   ]
  },
  {
   "cell_type": "code",
   "execution_count": 12,
   "metadata": {},
   "outputs": [
    {
     "data": {
      "text/plain": [
       "(1161,)"
      ]
     },
     "execution_count": 12,
     "metadata": {},
     "output_type": "execute_result"
    }
   ],
   "source": [
    "training_y.shape"
   ]
  },
  {
   "cell_type": "code",
   "execution_count": 13,
   "metadata": {},
   "outputs": [
    {
     "data": {
      "text/plain": [
       "(290, 60, 7)"
      ]
     },
     "execution_count": 13,
     "metadata": {},
     "output_type": "execute_result"
    }
   ],
   "source": [
    "test_x.shape"
   ]
  },
  {
   "cell_type": "code",
   "execution_count": 29,
   "metadata": {
    "execution": {
     "iopub.execute_input": "2022-05-08T13:34:27.731501Z",
     "iopub.status.busy": "2022-05-08T13:34:27.730543Z",
     "iopub.status.idle": "2022-05-08T13:34:27.744219Z",
     "shell.execute_reply": "2022-05-08T13:34:27.743447Z",
     "shell.execute_reply.started": "2022-05-08T13:34:27.731455Z"
    }
   },
   "outputs": [],
   "source": [
    "class ResBlock:\n",
    "    def __init__(self, f, k, s):\n",
    "        self.filter = f\n",
    "        self.kernel = k\n",
    "        self.step   = s\n",
    "        \n",
    "    def __call__(self, X_input):\n",
    "        # ResBlock\n",
    "        X_short = Conv1D(filters=self.filter, kernel_size=self.kernel, strides=self.step, data_format='channels_last')(X_input)\n",
    "#         X_short = BatchNormalization()(X_short)\n",
    "        #X_short = ReLU()(X_short)\n",
    "        X       = Conv1D(filters=self.filter//2, kernel_size=self.kernel, strides=1, data_format='channels_last')(X_input)\n",
    "#         X       = BatchNormalization()(X)\n",
    "        X       = ReLU()(X)\n",
    "\n",
    "        X       = Conv1D(filters=self.filter, kernel_size=1, strides=self.step, data_format='channels_last')(X)\n",
    "#         X       = BatchNormalization()(X)\n",
    "        # X       = ReLU()(X)\n",
    "\n",
    "        X       = Add()([X_short, X])\n",
    "        X       = ReLU()(X)\n",
    "        \n",
    "        return X\n",
    "    \n",
    "\n",
    "def res_lstm(input_shape = (5)):\n",
    "    X_input = Input(input_shape)\n",
    "    \n",
    "    # ResBlock\n",
    "    X       = ResBlock(60, 30, 2)(X_input)\n",
    "    X       = ResBlock(120, 10, 2)(X)\n",
    "    X       = ResBlock(240, 3, 1)(X)\n",
    "#     X_short = Conv1D(filters=60, kernel_size=30, strides=1, data_format='channels_last')(X_input)\n",
    "#     #X_short = ReLU()(X_short)\n",
    "#     X       = Conv1D(filters=30, kernel_size=10, strides=2, data_format='channels_last')(X_input)\n",
    "#     X       = ReLU()(X)\n",
    "    \n",
    "#     X       = Conv1D(filters=60, kernel_size=1, strides=1, data_format='channels_last')(X)\n",
    "#     X       = ReLU()(X)\n",
    "    \n",
    "#     X       = Add()([X_short, X])\n",
    "    \n",
    "#     X = Flatten()(X)\n",
    "    #X = Dense(60, activation='relu', kernel_regularizer='l2')(X_input)\n",
    "    #X = LSTM(60, return_sequences=True)(X)\n",
    "#     X = AveragePooling1D(2)(X)\n",
    "    X = LSTM(80, activation='relu', return_sequences=True)(X)\n",
    "#     X = Dropout(.2, input_shape=(30, 30))(X)\n",
    "    X = LSTM(50, activation='relu', return_sequences=True)(X)\n",
    "    X = Dropout(.2, input_shape=(30, 15))(X)\n",
    "    X = LSTM(30, activation='relu', return_sequences=True)(X)\n",
    "    #X = LSTM(8, activation='relu', return_sequences=True)(X)\n",
    "    X = Flatten()(X)\n",
    "    X = Dense(12, activation='relu', kernel_regularizer='l2')(X)\n",
    "    X = Dense(1, activation='relu')(X)\n",
    "  \n",
    "    model = Model(inputs = X_input, outputs = X)\n",
    " \n",
    "    return model"
   ]
  },
  {
   "cell_type": "code",
   "execution_count": 30,
   "metadata": {
    "execution": {
     "iopub.execute_input": "2022-05-08T13:34:28.259567Z",
     "iopub.status.busy": "2022-05-08T13:34:28.258893Z",
     "iopub.status.idle": "2022-05-08T13:34:28.474355Z",
     "shell.execute_reply": "2022-05-08T13:34:28.473647Z",
     "shell.execute_reply.started": "2022-05-08T13:34:28.259533Z"
    }
   },
   "outputs": [
    {
     "name": "stdout",
     "output_type": "stream",
     "text": [
      "WARNING:tensorflow:Layer lstm_3 will not use cuDNN kernels since it doesn't meet the criteria. It will use a generic GPU kernel as fallback when running on GPU.\n",
      "WARNING:tensorflow:Layer lstm_4 will not use cuDNN kernels since it doesn't meet the criteria. It will use a generic GPU kernel as fallback when running on GPU.\n",
      "WARNING:tensorflow:Layer lstm_5 will not use cuDNN kernels since it doesn't meet the criteria. It will use a generic GPU kernel as fallback when running on GPU.\n",
      "Model: \"model_3\"\n",
      "__________________________________________________________________________________________________\n",
      " Layer (type)                   Output Shape         Param #     Connected to                     \n",
      "==================================================================================================\n",
      " input_4 (InputLayer)           [(None, 60, 7)]      0           []                               \n",
      "                                                                                                  \n",
      " conv1d_28 (Conv1D)             (None, 31, 30)       6330        ['input_4[0][0]']                \n",
      "                                                                                                  \n",
      " re_lu_18 (ReLU)                (None, 31, 30)       0           ['conv1d_28[0][0]']              \n",
      "                                                                                                  \n",
      " conv1d_27 (Conv1D)             (None, 16, 60)       12660       ['input_4[0][0]']                \n",
      "                                                                                                  \n",
      " conv1d_29 (Conv1D)             (None, 16, 60)       1860        ['re_lu_18[0][0]']               \n",
      "                                                                                                  \n",
      " add_9 (Add)                    (None, 16, 60)       0           ['conv1d_27[0][0]',              \n",
      "                                                                  'conv1d_29[0][0]']              \n",
      "                                                                                                  \n",
      " re_lu_19 (ReLU)                (None, 16, 60)       0           ['add_9[0][0]']                  \n",
      "                                                                                                  \n",
      " conv1d_31 (Conv1D)             (None, 7, 60)        36060       ['re_lu_19[0][0]']               \n",
      "                                                                                                  \n",
      " re_lu_20 (ReLU)                (None, 7, 60)        0           ['conv1d_31[0][0]']              \n",
      "                                                                                                  \n",
      " conv1d_30 (Conv1D)             (None, 4, 120)       72120       ['re_lu_19[0][0]']               \n",
      "                                                                                                  \n",
      " conv1d_32 (Conv1D)             (None, 4, 120)       7320        ['re_lu_20[0][0]']               \n",
      "                                                                                                  \n",
      " add_10 (Add)                   (None, 4, 120)       0           ['conv1d_30[0][0]',              \n",
      "                                                                  'conv1d_32[0][0]']              \n",
      "                                                                                                  \n",
      " re_lu_21 (ReLU)                (None, 4, 120)       0           ['add_10[0][0]']                 \n",
      "                                                                                                  \n",
      " conv1d_34 (Conv1D)             (None, 2, 120)       43320       ['re_lu_21[0][0]']               \n",
      "                                                                                                  \n",
      " re_lu_22 (ReLU)                (None, 2, 120)       0           ['conv1d_34[0][0]']              \n",
      "                                                                                                  \n",
      " conv1d_33 (Conv1D)             (None, 2, 240)       86640       ['re_lu_21[0][0]']               \n",
      "                                                                                                  \n",
      " conv1d_35 (Conv1D)             (None, 2, 240)       29040       ['re_lu_22[0][0]']               \n",
      "                                                                                                  \n",
      " add_11 (Add)                   (None, 2, 240)       0           ['conv1d_33[0][0]',              \n",
      "                                                                  'conv1d_35[0][0]']              \n",
      "                                                                                                  \n",
      " re_lu_23 (ReLU)                (None, 2, 240)       0           ['add_11[0][0]']                 \n",
      "                                                                                                  \n",
      " lstm_3 (LSTM)                  (None, 2, 80)        102720      ['re_lu_23[0][0]']               \n",
      "                                                                                                  \n",
      " lstm_4 (LSTM)                  (None, 2, 50)        26200       ['lstm_3[0][0]']                 \n",
      "                                                                                                  \n",
      " dropout (Dropout)              (None, 2, 50)        0           ['lstm_4[0][0]']                 \n",
      "                                                                                                  \n",
      " lstm_5 (LSTM)                  (None, 2, 30)        9720        ['dropout[0][0]']                \n",
      "                                                                                                  \n",
      " flatten_3 (Flatten)            (None, 60)           0           ['lstm_5[0][0]']                 \n",
      "                                                                                                  \n",
      " dense_6 (Dense)                (None, 12)           732         ['flatten_3[0][0]']              \n",
      "                                                                                                  \n",
      " dense_7 (Dense)                (None, 1)            13          ['dense_6[0][0]']                \n",
      "                                                                                                  \n",
      "==================================================================================================\n",
      "Total params: 434,735\n",
      "Trainable params: 434,735\n",
      "Non-trainable params: 0\n",
      "__________________________________________________________________________________________________\n",
      "None\n"
     ]
    }
   ],
   "source": [
    "model = res_lstm((60, 7))\n",
    "print(model.summary())"
   ]
  },
  {
   "cell_type": "code",
   "execution_count": 31,
   "metadata": {},
   "outputs": [
    {
     "data": {
      "text/plain": [
       "0"
      ]
     },
     "execution_count": 31,
     "metadata": {},
     "output_type": "execute_result"
    }
   ],
   "source": [
    "np.sum(np.isnan(test_x))"
   ]
  },
  {
   "cell_type": "code",
   "execution_count": 32,
   "metadata": {
    "_kg_hide-input": true,
    "execution": {
     "iopub.execute_input": "2022-05-08T13:34:28.87023Z",
     "iopub.status.busy": "2022-05-08T13:34:28.869951Z",
     "iopub.status.idle": "2022-05-08T13:35:15.104676Z",
     "shell.execute_reply": "2022-05-08T13:35:15.103979Z",
     "shell.execute_reply.started": "2022-05-08T13:34:28.870198Z"
    }
   },
   "outputs": [
    {
     "name": "stdout",
     "output_type": "stream",
     "text": [
      "Epoch 1/30\n",
      "3/3 [==============================] - 3s 213ms/step - loss: 0.8142 - mse: 0.4703 - mae: 0.6111 - val_loss: 1.8791 - val_mse: 3.2855 - val_mae: 1.7180\n",
      "Epoch 2/30\n",
      "3/3 [==============================] - 0s 35ms/step - loss: 0.7394 - mse: 0.4329 - mae: 0.5879 - val_loss: 1.4638 - val_mse: 1.8645 - val_mae: 1.3425\n",
      "Epoch 3/30\n",
      "3/3 [==============================] - 0s 34ms/step - loss: 0.7088 - mse: 0.4420 - mae: 0.5950 - val_loss: 1.8351 - val_mse: 3.1748 - val_mae: 1.7445\n",
      "Epoch 4/30\n",
      "3/3 [==============================] - 0s 37ms/step - loss: 0.6796 - mse: 0.4426 - mae: 0.5947 - val_loss: 1.8117 - val_mse: 3.1748 - val_mae: 1.7445\n",
      "Epoch 5/30\n",
      "3/3 [==============================] - 0s 34ms/step - loss: 0.6617 - mse: 0.4477 - mae: 0.5988 - val_loss: 0.3165 - val_mse: 0.0954 - val_mae: 0.2670\n",
      "Epoch 6/30\n",
      "3/3 [==============================] - 0s 33ms/step - loss: 0.6162 - mse: 0.4089 - mae: 0.5699 - val_loss: 0.7557 - val_mse: 0.5762 - val_mae: 0.7189\n",
      "Epoch 7/30\n",
      "3/3 [==============================] - 0s 34ms/step - loss: 0.5903 - mse: 0.3858 - mae: 0.5557 - val_loss: 0.2444 - val_mse: 0.0682 - val_mae: 0.2164\n",
      "Epoch 8/30\n",
      "3/3 [==============================] - 0s 33ms/step - loss: 0.5614 - mse: 0.3667 - mae: 0.5349 - val_loss: 3.6321 - val_mse: 14.2691 - val_mae: 3.6101\n",
      "Epoch 9/30\n",
      "3/3 [==============================] - 0s 33ms/step - loss: 0.5866 - mse: 0.4099 - mae: 0.5656 - val_loss: 0.9262 - val_mse: 0.8849 - val_mae: 0.9082\n",
      "Epoch 10/30\n",
      "3/3 [==============================] - 0s 33ms/step - loss: 0.5775 - mse: 0.3902 - mae: 0.5602 - val_loss: 0.3337 - val_mse: 0.1306 - val_mae: 0.3184\n",
      "Epoch 11/30\n",
      "3/3 [==============================] - 0s 34ms/step - loss: 0.5419 - mse: 0.3625 - mae: 0.5270 - val_loss: 0.3304 - val_mse: 0.1739 - val_mae: 0.3168\n",
      "Epoch 12/30\n",
      "3/3 [==============================] - 0s 31ms/step - loss: 0.5431 - mse: 0.3648 - mae: 0.5298 - val_loss: 0.4052 - val_mse: 0.2205 - val_mae: 0.3929\n",
      "Epoch 13/30\n",
      "3/3 [==============================] - 0s 32ms/step - loss: 0.5368 - mse: 0.3696 - mae: 0.5249 - val_loss: 0.2360 - val_mse: 0.0723 - val_mae: 0.2250\n",
      "Epoch 14/30\n",
      "3/3 [==============================] - 0s 38ms/step - loss: 0.5398 - mse: 0.3648 - mae: 0.5290 - val_loss: 0.3731 - val_mse: 0.1947 - val_mae: 0.3632\n",
      "Epoch 15/30\n",
      "3/3 [==============================] - 0s 36ms/step - loss: 0.5301 - mse: 0.3593 - mae: 0.5205 - val_loss: 0.2766 - val_mse: 0.1039 - val_mae: 0.2678\n",
      "Epoch 16/30\n",
      "3/3 [==============================] - 0s 35ms/step - loss: 0.5228 - mse: 0.3564 - mae: 0.5142 - val_loss: 0.4814 - val_mse: 0.2982 - val_mae: 0.4735\n",
      "Epoch 17/30\n",
      "3/3 [==============================] - 0s 35ms/step - loss: 0.5245 - mse: 0.3578 - mae: 0.5168 - val_loss: 0.2404 - val_mse: 0.0828 - val_mae: 0.2334\n",
      "Epoch 18/30\n",
      "3/3 [==============================] - 0s 36ms/step - loss: 0.5259 - mse: 0.3593 - mae: 0.5190 - val_loss: 0.4038 - val_mse: 0.2217 - val_mae: 0.3975\n",
      "Epoch 19/30\n",
      "3/3 [==============================] - 0s 39ms/step - loss: 0.5212 - mse: 0.3569 - mae: 0.5151 - val_loss: 1.0151 - val_mse: 1.1612 - val_mae: 1.0094\n",
      "Epoch 20/30\n",
      "3/3 [==============================] - 0s 36ms/step - loss: 0.5416 - mse: 0.3710 - mae: 0.5361 - val_loss: 0.7993 - val_mse: 0.7147 - val_mae: 0.7943\n",
      "Epoch 21/30\n",
      "3/3 [==============================] - 0s 40ms/step - loss: 0.5417 - mse: 0.3700 - mae: 0.5368 - val_loss: 0.3345 - val_mse: 0.1601 - val_mae: 0.3299\n",
      "Epoch 22/30\n",
      "3/3 [==============================] - 0s 33ms/step - loss: 0.5295 - mse: 0.3607 - mae: 0.5250 - val_loss: 0.4827 - val_mse: 0.2991 - val_mae: 0.4786\n",
      "Epoch 23/30\n",
      "3/3 [==============================] - 0s 34ms/step - loss: 0.5317 - mse: 0.3655 - mae: 0.5277 - val_loss: 0.5078 - val_mse: 0.3461 - val_mae: 0.5040\n",
      "Epoch 24/30\n",
      "3/3 [==============================] - 0s 36ms/step - loss: 0.5181 - mse: 0.3571 - mae: 0.5144 - val_loss: 0.2854 - val_mse: 0.1384 - val_mae: 0.2820\n",
      "Epoch 25/30\n",
      "3/3 [==============================] - 0s 40ms/step - loss: 0.5173 - mse: 0.3568 - mae: 0.5139 - val_loss: 0.5379 - val_mse: 0.4012 - val_mae: 0.5348\n",
      "Epoch 26/30\n",
      "3/3 [==============================] - 0s 35ms/step - loss: 0.5158 - mse: 0.3565 - mae: 0.5127 - val_loss: 0.2645 - val_mse: 0.1147 - val_mae: 0.2616\n",
      "Epoch 27/30\n",
      "3/3 [==============================] - 0s 36ms/step - loss: 0.5120 - mse: 0.3552 - mae: 0.5092 - val_loss: 0.4242 - val_mse: 0.2545 - val_mae: 0.4215\n",
      "Epoch 28/30\n",
      "3/3 [==============================] - 0s 39ms/step - loss: 0.5148 - mse: 0.3565 - mae: 0.5122 - val_loss: 0.2526 - val_mse: 0.1072 - val_mae: 0.2502\n",
      "Epoch 29/30\n",
      "3/3 [==============================] - 0s 34ms/step - loss: 0.5291 - mse: 0.3677 - mae: 0.5267 - val_loss: 0.5492 - val_mse: 0.4048 - val_mae: 0.5470\n",
      "Epoch 30/30\n",
      "3/3 [==============================] - 0s 37ms/step - loss: 0.5158 - mse: 0.3596 - mae: 0.5136 - val_loss: 0.2476 - val_mse: 0.0962 - val_mae: 0.2454\n",
      "Epoch 1/50\n",
      "3/3 [==============================] - 3s 213ms/step - loss: 0.5108 - mse: 0.3547 - mae: 0.5087 - val_loss: 0.4411 - val_mse: 0.2758 - val_mae: 0.4391\n",
      "Epoch 2/50\n",
      "3/3 [==============================] - 0s 31ms/step - loss: 0.5104 - mse: 0.3548 - mae: 0.5085 - val_loss: 0.2896 - val_mse: 0.1221 - val_mae: 0.2877\n",
      "Epoch 3/50\n",
      "3/3 [==============================] - 0s 31ms/step - loss: 0.5089 - mse: 0.3545 - mae: 0.5071 - val_loss: 0.3579 - val_mse: 0.1851 - val_mae: 0.3562\n",
      "Epoch 4/50\n",
      "3/3 [==============================] - 0s 38ms/step - loss: 0.5088 - mse: 0.3548 - mae: 0.5072 - val_loss: 0.3962 - val_mse: 0.2254 - val_mae: 0.3947\n",
      "Epoch 5/50\n",
      "3/3 [==============================] - 0s 34ms/step - loss: 0.5078 - mse: 0.3546 - mae: 0.5063 - val_loss: 0.3292 - val_mse: 0.1563 - val_mae: 0.3278\n",
      "Epoch 6/50\n",
      "3/3 [==============================] - 0s 36ms/step - loss: 0.5079 - mse: 0.3545 - mae: 0.5065 - val_loss: 0.3893 - val_mse: 0.2193 - val_mae: 0.3879\n",
      "Epoch 7/50\n",
      "3/3 [==============================] - 0s 32ms/step - loss: 0.5074 - mse: 0.3542 - mae: 0.5061 - val_loss: 0.4399 - val_mse: 0.2747 - val_mae: 0.4387\n",
      "Epoch 8/50\n",
      "3/3 [==============================] - 0s 37ms/step - loss: 0.5065 - mse: 0.3539 - mae: 0.5052 - val_loss: 0.3667 - val_mse: 0.1945 - val_mae: 0.3656\n",
      "Epoch 9/50\n",
      "3/3 [==============================] - 0s 34ms/step - loss: 0.5064 - mse: 0.3539 - mae: 0.5053 - val_loss: 0.3378 - val_mse: 0.1657 - val_mae: 0.3367\n",
      "Epoch 10/50\n",
      "3/3 [==============================] - 0s 32ms/step - loss: 0.5051 - mse: 0.3534 - mae: 0.5041 - val_loss: 0.3443 - val_mse: 0.1719 - val_mae: 0.3433\n",
      "Epoch 11/50\n",
      "3/3 [==============================] - 0s 34ms/step - loss: 0.5054 - mse: 0.3536 - mae: 0.5044 - val_loss: 0.3457 - val_mse: 0.1734 - val_mae: 0.3447\n",
      "Epoch 12/50\n",
      "3/3 [==============================] - 0s 38ms/step - loss: 0.5049 - mse: 0.3535 - mae: 0.5040 - val_loss: 0.3484 - val_mse: 0.1783 - val_mae: 0.3475\n",
      "Epoch 13/50\n",
      "3/3 [==============================] - 0s 38ms/step - loss: 0.5057 - mse: 0.3537 - mae: 0.5048 - val_loss: 0.3882 - val_mse: 0.2186 - val_mae: 0.3873\n",
      "Epoch 14/50\n",
      "3/3 [==============================] - 0s 35ms/step - loss: 0.5055 - mse: 0.3537 - mae: 0.5046 - val_loss: 0.3645 - val_mse: 0.1918 - val_mae: 0.3636\n",
      "Epoch 15/50\n",
      "3/3 [==============================] - 0s 36ms/step - loss: 0.5047 - mse: 0.3534 - mae: 0.5038 - val_loss: 0.3113 - val_mse: 0.1439 - val_mae: 0.3105\n",
      "Epoch 16/50\n",
      "3/3 [==============================] - 0s 39ms/step - loss: 0.5053 - mse: 0.3538 - mae: 0.5045 - val_loss: 0.4037 - val_mse: 0.2395 - val_mae: 0.4029\n",
      "Epoch 17/50\n",
      "3/3 [==============================] - 0s 34ms/step - loss: 0.5053 - mse: 0.3537 - mae: 0.5045 - val_loss: 0.4107 - val_mse: 0.2465 - val_mae: 0.4100\n",
      "Epoch 18/50\n",
      "3/3 [==============================] - 0s 38ms/step - loss: 0.5043 - mse: 0.3535 - mae: 0.5035 - val_loss: 0.3105 - val_mse: 0.1414 - val_mae: 0.3098\n",
      "Epoch 19/50\n",
      "3/3 [==============================] - 0s 37ms/step - loss: 0.5047 - mse: 0.3534 - mae: 0.5039 - val_loss: 0.3595 - val_mse: 0.1858 - val_mae: 0.3588\n",
      "Epoch 20/50\n",
      "3/3 [==============================] - 0s 36ms/step - loss: 0.5040 - mse: 0.3535 - mae: 0.5033 - val_loss: 0.3787 - val_mse: 0.2072 - val_mae: 0.3780\n",
      "Epoch 21/50\n",
      "3/3 [==============================] - 0s 39ms/step - loss: 0.5042 - mse: 0.3534 - mae: 0.5035 - val_loss: 0.3294 - val_mse: 0.1600 - val_mae: 0.3287\n",
      "Epoch 22/50\n",
      "3/3 [==============================] - 0s 36ms/step - loss: 0.5046 - mse: 0.3535 - mae: 0.5039 - val_loss: 0.3643 - val_mse: 0.1939 - val_mae: 0.3636\n",
      "Epoch 23/50\n",
      "3/3 [==============================] - 0s 35ms/step - loss: 0.5036 - mse: 0.3532 - mae: 0.5029 - val_loss: 0.4315 - val_mse: 0.2658 - val_mae: 0.4308\n",
      "Epoch 24/50\n",
      "3/3 [==============================] - 0s 37ms/step - loss: 0.5042 - mse: 0.3535 - mae: 0.5035 - val_loss: 0.3810 - val_mse: 0.2111 - val_mae: 0.3804\n",
      "Epoch 25/50\n",
      "3/3 [==============================] - 0s 42ms/step - loss: 0.5043 - mse: 0.3532 - mae: 0.5036 - val_loss: 0.3440 - val_mse: 0.1743 - val_mae: 0.3433\n",
      "Epoch 26/50\n",
      "3/3 [==============================] - 0s 33ms/step - loss: 0.5037 - mse: 0.3536 - mae: 0.5031 - val_loss: 0.4590 - val_mse: 0.3028 - val_mae: 0.4584\n",
      "Epoch 27/50\n",
      "3/3 [==============================] - 0s 38ms/step - loss: 0.5048 - mse: 0.3535 - mae: 0.5042 - val_loss: 0.4406 - val_mse: 0.2799 - val_mae: 0.4400\n",
      "Epoch 28/50\n",
      "3/3 [==============================] - 0s 38ms/step - loss: 0.5043 - mse: 0.3535 - mae: 0.5037 - val_loss: 0.3422 - val_mse: 0.1721 - val_mae: 0.3415\n",
      "Epoch 29/50\n",
      "3/3 [==============================] - 0s 35ms/step - loss: 0.5040 - mse: 0.3533 - mae: 0.5034 - val_loss: 0.4638 - val_mse: 0.3073 - val_mae: 0.4632\n",
      "Epoch 30/50\n",
      "3/3 [==============================] - 0s 38ms/step - loss: 0.5040 - mse: 0.3535 - mae: 0.5034 - val_loss: 0.4417 - val_mse: 0.2802 - val_mae: 0.4411\n",
      "Epoch 31/50\n",
      "3/3 [==============================] - 0s 34ms/step - loss: 0.5034 - mse: 0.3533 - mae: 0.5028 - val_loss: 0.3304 - val_mse: 0.1604 - val_mae: 0.3298\n",
      "Epoch 32/50\n",
      "3/3 [==============================] - 0s 32ms/step - loss: 0.5043 - mse: 0.3534 - mae: 0.5037 - val_loss: 0.3905 - val_mse: 0.2220 - val_mae: 0.3899\n",
      "Epoch 33/50\n",
      "3/3 [==============================] - 0s 36ms/step - loss: 0.5033 - mse: 0.3531 - mae: 0.5027 - val_loss: 0.4378 - val_mse: 0.2793 - val_mae: 0.4372\n",
      "Epoch 34/50\n",
      "3/3 [==============================] - 0s 43ms/step - loss: 0.5033 - mse: 0.3531 - mae: 0.5027 - val_loss: 0.4257 - val_mse: 0.2627 - val_mae: 0.4251\n",
      "Epoch 35/50\n",
      "3/3 [==============================] - 0s 39ms/step - loss: 0.5030 - mse: 0.3532 - mae: 0.5025 - val_loss: 0.4305 - val_mse: 0.2655 - val_mae: 0.4300\n",
      "Epoch 36/50\n",
      "3/3 [==============================] - 0s 38ms/step - loss: 0.5034 - mse: 0.3535 - mae: 0.5028 - val_loss: 0.3964 - val_mse: 0.2266 - val_mae: 0.3959\n",
      "Epoch 37/50\n",
      "3/3 [==============================] - 0s 35ms/step - loss: 0.5022 - mse: 0.3529 - mae: 0.5016 - val_loss: 0.3803 - val_mse: 0.2107 - val_mae: 0.3797\n",
      "Epoch 38/50\n",
      "3/3 [==============================] - 0s 37ms/step - loss: 0.5025 - mse: 0.3530 - mae: 0.5020 - val_loss: 0.3883 - val_mse: 0.2224 - val_mae: 0.3877\n",
      "Epoch 39/50\n",
      "3/3 [==============================] - 0s 35ms/step - loss: 0.5023 - mse: 0.3528 - mae: 0.5018 - val_loss: 0.4534 - val_mse: 0.2944 - val_mae: 0.4528\n",
      "Epoch 40/50\n",
      "3/3 [==============================] - 0s 34ms/step - loss: 0.5036 - mse: 0.3533 - mae: 0.5031 - val_loss: 0.3745 - val_mse: 0.2022 - val_mae: 0.3740\n",
      "Epoch 41/50\n",
      "3/3 [==============================] - 0s 36ms/step - loss: 0.5036 - mse: 0.3532 - mae: 0.5031 - val_loss: 0.3528 - val_mse: 0.1819 - val_mae: 0.3523\n",
      "Epoch 42/50\n",
      "3/3 [==============================] - 0s 32ms/step - loss: 0.5025 - mse: 0.3530 - mae: 0.5020 - val_loss: 0.5372 - val_mse: 0.4030 - val_mae: 0.5367\n",
      "Epoch 43/50\n",
      "3/3 [==============================] - 0s 35ms/step - loss: 0.5048 - mse: 0.3536 - mae: 0.5043 - val_loss: 0.4125 - val_mse: 0.2476 - val_mae: 0.4120\n",
      "Epoch 44/50\n",
      "3/3 [==============================] - 0s 36ms/step - loss: 0.5039 - mse: 0.3533 - mae: 0.5034 - val_loss: 0.3541 - val_mse: 0.1852 - val_mae: 0.3536\n",
      "Epoch 45/50\n",
      "3/3 [==============================] - 0s 34ms/step - loss: 0.5031 - mse: 0.3531 - mae: 0.5026 - val_loss: 0.5077 - val_mse: 0.3627 - val_mae: 0.5072\n",
      "Epoch 46/50\n",
      "3/3 [==============================] - 0s 33ms/step - loss: 0.5035 - mse: 0.3533 - mae: 0.5030 - val_loss: 0.4403 - val_mse: 0.2784 - val_mae: 0.4398\n",
      "Epoch 47/50\n",
      "3/3 [==============================] - 0s 39ms/step - loss: 0.5024 - mse: 0.3530 - mae: 0.5019 - val_loss: 0.3778 - val_mse: 0.2080 - val_mae: 0.3773\n",
      "Epoch 48/50\n",
      "3/3 [==============================] - 0s 36ms/step - loss: 0.5028 - mse: 0.3530 - mae: 0.5023 - val_loss: 0.4241 - val_mse: 0.2590 - val_mae: 0.4236\n",
      "Epoch 49/50\n",
      "3/3 [==============================] - 0s 44ms/step - loss: 0.5016 - mse: 0.3528 - mae: 0.5011 - val_loss: 0.3943 - val_mse: 0.2231 - val_mae: 0.3938\n",
      "Epoch 50/50\n",
      "3/3 [==============================] - 0s 36ms/step - loss: 0.5026 - mse: 0.3530 - mae: 0.5021 - val_loss: 0.3993 - val_mse: 0.2301 - val_mae: 0.3988\n",
      "Epoch 1/50\n",
      "3/3 [==============================] - 3s 210ms/step - loss: 0.5020 - mse: 0.3529 - mae: 0.5015 - val_loss: 0.3994 - val_mse: 0.2295 - val_mae: 0.3989\n",
      "Epoch 2/50\n",
      "3/3 [==============================] - 0s 31ms/step - loss: 0.5014 - mse: 0.3528 - mae: 0.5009 - val_loss: 0.4228 - val_mse: 0.2551 - val_mae: 0.4223\n",
      "Epoch 3/50\n",
      "3/3 [==============================] - 0s 32ms/step - loss: 0.5015 - mse: 0.3527 - mae: 0.5010 - val_loss: 0.4124 - val_mse: 0.2433 - val_mae: 0.4119\n",
      "Epoch 4/50\n",
      "3/3 [==============================] - 0s 37ms/step - loss: 0.5016 - mse: 0.3528 - mae: 0.5011 - val_loss: 0.3941 - val_mse: 0.2237 - val_mae: 0.3936\n",
      "Epoch 5/50\n",
      "3/3 [==============================] - 0s 29ms/step - loss: 0.5024 - mse: 0.3531 - mae: 0.5019 - val_loss: 0.3914 - val_mse: 0.2214 - val_mae: 0.3909\n",
      "Epoch 6/50\n",
      "3/3 [==============================] - 0s 37ms/step - loss: 0.5026 - mse: 0.3530 - mae: 0.5021 - val_loss: 0.3953 - val_mse: 0.2264 - val_mae: 0.3948\n",
      "Epoch 7/50\n",
      "3/3 [==============================] - 0s 35ms/step - loss: 0.5020 - mse: 0.3529 - mae: 0.5015 - val_loss: 0.4107 - val_mse: 0.2441 - val_mae: 0.4102\n",
      "Epoch 8/50\n",
      "3/3 [==============================] - 0s 34ms/step - loss: 0.5014 - mse: 0.3528 - mae: 0.5009 - val_loss: 0.4347 - val_mse: 0.2716 - val_mae: 0.4342\n",
      "Epoch 9/50\n",
      "3/3 [==============================] - 0s 30ms/step - loss: 0.5020 - mse: 0.3530 - mae: 0.5015 - val_loss: 0.4516 - val_mse: 0.2904 - val_mae: 0.4511\n",
      "Epoch 10/50\n",
      "3/3 [==============================] - 0s 37ms/step - loss: 0.5015 - mse: 0.3529 - mae: 0.5011 - val_loss: 0.4516 - val_mse: 0.2894 - val_mae: 0.4512\n",
      "Epoch 11/50\n",
      "3/3 [==============================] - 0s 35ms/step - loss: 0.5017 - mse: 0.3530 - mae: 0.5013 - val_loss: 0.4370 - val_mse: 0.2714 - val_mae: 0.4365\n",
      "Epoch 12/50\n",
      "3/3 [==============================] - 0s 33ms/step - loss: 0.5016 - mse: 0.3529 - mae: 0.5012 - val_loss: 0.4250 - val_mse: 0.2572 - val_mae: 0.4245\n",
      "Epoch 13/50\n",
      "3/3 [==============================] - 0s 35ms/step - loss: 0.5019 - mse: 0.3529 - mae: 0.5014 - val_loss: 0.4157 - val_mse: 0.2466 - val_mae: 0.4152\n",
      "Epoch 14/50\n",
      "3/3 [==============================] - 0s 37ms/step - loss: 0.5012 - mse: 0.3528 - mae: 0.5007 - val_loss: 0.4103 - val_mse: 0.2408 - val_mae: 0.4098\n",
      "Epoch 15/50\n",
      "3/3 [==============================] - 0s 35ms/step - loss: 0.5020 - mse: 0.3530 - mae: 0.5015 - val_loss: 0.4076 - val_mse: 0.2382 - val_mae: 0.4072\n",
      "Epoch 16/50\n",
      "3/3 [==============================] - 0s 38ms/step - loss: 0.5022 - mse: 0.3529 - mae: 0.5017 - val_loss: 0.4136 - val_mse: 0.2453 - val_mae: 0.4132\n",
      "Epoch 17/50\n",
      "3/3 [==============================] - 0s 33ms/step - loss: 0.5015 - mse: 0.3528 - mae: 0.5010 - val_loss: 0.4203 - val_mse: 0.2532 - val_mae: 0.4198\n",
      "Epoch 18/50\n",
      "3/3 [==============================] - 0s 32ms/step - loss: 0.5020 - mse: 0.3529 - mae: 0.5015 - val_loss: 0.4257 - val_mse: 0.2600 - val_mae: 0.4252\n",
      "Epoch 19/50\n",
      "3/3 [==============================] - 0s 37ms/step - loss: 0.5013 - mse: 0.3528 - mae: 0.5008 - val_loss: 0.4295 - val_mse: 0.2647 - val_mae: 0.4290\n",
      "Epoch 20/50\n",
      "3/3 [==============================] - 0s 37ms/step - loss: 0.5012 - mse: 0.3528 - mae: 0.5008 - val_loss: 0.4305 - val_mse: 0.2664 - val_mae: 0.4300\n",
      "Epoch 21/50\n",
      "3/3 [==============================] - 0s 36ms/step - loss: 0.5014 - mse: 0.3528 - mae: 0.5010 - val_loss: 0.4209 - val_mse: 0.2557 - val_mae: 0.4205\n",
      "Epoch 22/50\n",
      "3/3 [==============================] - 0s 30ms/step - loss: 0.5024 - mse: 0.3531 - mae: 0.5019 - val_loss: 0.4130 - val_mse: 0.2467 - val_mae: 0.4125\n",
      "Epoch 23/50\n",
      "3/3 [==============================] - 0s 34ms/step - loss: 0.5018 - mse: 0.3529 - mae: 0.5013 - val_loss: 0.4076 - val_mse: 0.2404 - val_mae: 0.4071\n",
      "Epoch 24/50\n",
      "3/3 [==============================] - 0s 28ms/step - loss: 0.5018 - mse: 0.3529 - mae: 0.5013 - val_loss: 0.4146 - val_mse: 0.2477 - val_mae: 0.4141\n",
      "Epoch 25/50\n",
      "3/3 [==============================] - 0s 32ms/step - loss: 0.5018 - mse: 0.3528 - mae: 0.5013 - val_loss: 0.4258 - val_mse: 0.2596 - val_mae: 0.4253\n",
      "Epoch 26/50\n",
      "3/3 [==============================] - 0s 36ms/step - loss: 0.5014 - mse: 0.3528 - mae: 0.5010 - val_loss: 0.4329 - val_mse: 0.2672 - val_mae: 0.4324\n",
      "Epoch 27/50\n",
      "3/3 [==============================] - 0s 34ms/step - loss: 0.5025 - mse: 0.3534 - mae: 0.5021 - val_loss: 0.4367 - val_mse: 0.2714 - val_mae: 0.4362\n",
      "Epoch 28/50\n",
      "3/3 [==============================] - 0s 37ms/step - loss: 0.5017 - mse: 0.3529 - mae: 0.5012 - val_loss: 0.4268 - val_mse: 0.2604 - val_mae: 0.4263\n",
      "Epoch 29/50\n",
      "3/3 [==============================] - 0s 36ms/step - loss: 0.5014 - mse: 0.3529 - mae: 0.5009 - val_loss: 0.4137 - val_mse: 0.2463 - val_mae: 0.4132\n",
      "Epoch 30/50\n",
      "3/3 [==============================] - 0s 38ms/step - loss: 0.5018 - mse: 0.3528 - mae: 0.5013 - val_loss: 0.4053 - val_mse: 0.2374 - val_mae: 0.4048\n",
      "Epoch 31/50\n",
      "3/3 [==============================] - 0s 37ms/step - loss: 0.5018 - mse: 0.3529 - mae: 0.5013 - val_loss: 0.4037 - val_mse: 0.2360 - val_mae: 0.4032\n",
      "Epoch 32/50\n",
      "3/3 [==============================] - 0s 33ms/step - loss: 0.5009 - mse: 0.3527 - mae: 0.5004 - val_loss: 0.4152 - val_mse: 0.2490 - val_mae: 0.4147\n",
      "Epoch 33/50\n",
      "3/3 [==============================] - 0s 38ms/step - loss: 0.5012 - mse: 0.3527 - mae: 0.5007 - val_loss: 0.4253 - val_mse: 0.2603 - val_mae: 0.4249\n",
      "Epoch 34/50\n",
      "3/3 [==============================] - 0s 33ms/step - loss: 0.5016 - mse: 0.3528 - mae: 0.5011 - val_loss: 0.4383 - val_mse: 0.2751 - val_mae: 0.4378\n",
      "Epoch 35/50\n",
      "3/3 [==============================] - 0s 34ms/step - loss: 0.5013 - mse: 0.3528 - mae: 0.5009 - val_loss: 0.4414 - val_mse: 0.2792 - val_mae: 0.4409\n",
      "Epoch 36/50\n",
      "3/3 [==============================] - 0s 35ms/step - loss: 0.5016 - mse: 0.3528 - mae: 0.5011 - val_loss: 0.4333 - val_mse: 0.2703 - val_mae: 0.4328\n",
      "Epoch 37/50\n",
      "3/3 [==============================] - 0s 35ms/step - loss: 0.5011 - mse: 0.3529 - mae: 0.5006 - val_loss: 0.4223 - val_mse: 0.2575 - val_mae: 0.4218\n",
      "Epoch 38/50\n",
      "3/3 [==============================] - 0s 35ms/step - loss: 0.5013 - mse: 0.3527 - mae: 0.5009 - val_loss: 0.4109 - val_mse: 0.2446 - val_mae: 0.4104\n",
      "Epoch 39/50\n",
      "3/3 [==============================] - 0s 36ms/step - loss: 0.5015 - mse: 0.3528 - mae: 0.5011 - val_loss: 0.4025 - val_mse: 0.2349 - val_mae: 0.4021\n",
      "Epoch 40/50\n",
      "3/3 [==============================] - 0s 37ms/step - loss: 0.5020 - mse: 0.3529 - mae: 0.5015 - val_loss: 0.4017 - val_mse: 0.2335 - val_mae: 0.4012\n",
      "Epoch 41/50\n",
      "3/3 [==============================] - 0s 35ms/step - loss: 0.5016 - mse: 0.3528 - mae: 0.5011 - val_loss: 0.4158 - val_mse: 0.2483 - val_mae: 0.4154\n",
      "Epoch 42/50\n",
      "3/3 [==============================] - 0s 35ms/step - loss: 0.5021 - mse: 0.3529 - mae: 0.5017 - val_loss: 0.4322 - val_mse: 0.2659 - val_mae: 0.4317\n",
      "Epoch 43/50\n",
      "3/3 [==============================] - 0s 35ms/step - loss: 0.5014 - mse: 0.3528 - mae: 0.5009 - val_loss: 0.4406 - val_mse: 0.2750 - val_mae: 0.4401\n",
      "Epoch 44/50\n",
      "3/3 [==============================] - 0s 34ms/step - loss: 0.5017 - mse: 0.3529 - mae: 0.5012 - val_loss: 0.4274 - val_mse: 0.2598 - val_mae: 0.4269\n",
      "Epoch 45/50\n",
      "3/3 [==============================] - 0s 39ms/step - loss: 0.5020 - mse: 0.3531 - mae: 0.5015 - val_loss: 0.4156 - val_mse: 0.2473 - val_mae: 0.4151\n",
      "Epoch 46/50\n",
      "3/3 [==============================] - 0s 34ms/step - loss: 0.5014 - mse: 0.3530 - mae: 0.5010 - val_loss: 0.4095 - val_mse: 0.2417 - val_mae: 0.4090\n",
      "Epoch 47/50\n",
      "3/3 [==============================] - 0s 38ms/step - loss: 0.5010 - mse: 0.3528 - mae: 0.5005 - val_loss: 0.4016 - val_mse: 0.2340 - val_mae: 0.4011\n",
      "Epoch 48/50\n",
      "3/3 [==============================] - 0s 37ms/step - loss: 0.5013 - mse: 0.3527 - mae: 0.5009 - val_loss: 0.4082 - val_mse: 0.2423 - val_mae: 0.4077\n",
      "Epoch 49/50\n",
      "3/3 [==============================] - 0s 38ms/step - loss: 0.5016 - mse: 0.3528 - mae: 0.5012 - val_loss: 0.4240 - val_mse: 0.2608 - val_mae: 0.4235\n",
      "Epoch 50/50\n",
      "3/3 [==============================] - 0s 40ms/step - loss: 0.5011 - mse: 0.3527 - mae: 0.5006 - val_loss: 0.4492 - val_mse: 0.2898 - val_mae: 0.4488\n"
     ]
    }
   ],
   "source": [
    "model.compile(optimizer=tf.keras.optimizers.Adam(0.01), loss='mae', metrics=['mse', 'mae'])\n",
    "hitory = model.fit(training_x, training_y, epochs=30, batch_size=512, validation_data=(test_x, test_y))\n",
    "model.compile(optimizer=tf.keras.optimizers.Adam(0.001), loss='mae', metrics=['mse', 'mae'])\n",
    "hitory1 = model.fit(training_x, training_y, epochs=50, batch_size=512, validation_data=(test_x, test_y))\n",
    "model.compile(optimizer=tf.keras.optimizers.Adam(0.0001), loss='mae', metrics=['mse', 'mae'])\n",
    "hitory2 = model.fit(training_x, training_y, epochs=50, batch_size=512, validation_data=(test_x, test_y))"
   ]
  },
  {
   "cell_type": "code",
   "execution_count": 33,
   "metadata": {
    "execution": {
     "iopub.execute_input": "2022-05-08T13:36:03.278082Z",
     "iopub.status.busy": "2022-05-08T13:36:03.277813Z",
     "iopub.status.idle": "2022-05-08T13:36:03.554874Z",
     "shell.execute_reply": "2022-05-08T13:36:03.554211Z",
     "shell.execute_reply.started": "2022-05-08T13:36:03.278053Z"
    }
   },
   "outputs": [
    {
     "data": {
      "image/png": "[encoded data removed]",
      "text/plain": [
       "<Figure size 1008x576 with 1 Axes>"
      ]
     },
     "metadata": {
      "needs_background": "light"
     },
     "output_type": "display_data"
    }
   ],
   "source": [
    "loss = hitory.history[\"loss\"] + hitory1.history[\"loss\"] + hitory2.history[\"loss\"]\n",
    "val_loss = hitory.history[\"val_loss\"] + hitory1.history[\"val_loss\"] + hitory2.history[\"val_loss\"]\n",
    "plt.rcParams['figure.figsize'] = (14, 8)\n",
    "plt.plot(loss, label=\"training loss\", linewidth=1)\n",
    "plt.plot(val_loss, label=\"validation loss\", linewidth=1)\n",
    "plt.xlabel(\"epoch\")\n",
    "plt.ylabel(\"loss\")\n",
    "plt.legend()\n",
    "plt.show()"
   ]
  },
  {
   "cell_type": "markdown",
   "metadata": {},
   "source": [
    "# Model Evaluation"
   ]
  },
  {
   "cell_type": "code",
   "execution_count": 34,
   "metadata": {
    "execution": {
     "iopub.execute_input": "2022-05-08T13:36:02.036274Z",
     "iopub.status.busy": "2022-05-08T13:36:02.036014Z",
     "iopub.status.idle": "2022-05-08T13:36:02.039917Z",
     "shell.execute_reply": "2022-05-08T13:36:02.039101Z",
     "shell.execute_reply.started": "2022-05-08T13:36:02.036245Z"
    }
   },
   "outputs": [],
   "source": [
    "from sklearn.metrics import mean_absolute_error, mean_squared_error"
   ]
  },
  {
   "cell_type": "code",
   "execution_count": 35,
   "metadata": {
    "execution": {
     "iopub.execute_input": "2022-05-08T13:36:07.378892Z",
     "iopub.status.busy": "2022-05-08T13:36:07.378633Z",
     "iopub.status.idle": "2022-05-08T13:36:08.698717Z",
     "shell.execute_reply": "2022-05-08T13:36:08.697813Z",
     "shell.execute_reply.started": "2022-05-08T13:36:07.378863Z"
    }
   },
   "outputs": [
    {
     "data": {
      "text/plain": [
       "83.86254283480577"
      ]
     },
     "execution_count": 35,
     "metadata": {},
     "output_type": "execute_result"
    }
   ],
   "source": [
    "mean_absolute_error(model.predict(test_x), test_y)*st[\"APPLE\"]+mu[\"APPLE\"]"
   ]
  },
  {
   "cell_type": "code",
   "execution_count": 36,
   "metadata": {},
   "outputs": [
    {
     "data": {
      "text/plain": [
       "77.23970507184183"
      ]
     },
     "execution_count": 36,
     "metadata": {},
     "output_type": "execute_result"
    }
   ],
   "source": [
    "mean_squared_error(model.predict(test_x), test_y)*st[\"APPLE\"]+mu[\"APPLE\"]"
   ]
  },
  {
   "cell_type": "code",
   "execution_count": 37,
   "metadata": {},
   "outputs": [
    {
     "data": {
      "text/plain": [
       "8.788612238109144"
      ]
     },
     "execution_count": 37,
     "metadata": {},
     "output_type": "execute_result"
    }
   ],
   "source": [
    "np.sqrt(mean_squared_error(model.predict(test_x), test_y)*st[\"APPLE\"]+mu[\"APPLE\"])"
   ]
  },
  {
   "cell_type": "code",
   "execution_count": 38,
   "metadata": {
    "execution": {
     "iopub.execute_input": "2022-05-08T13:36:09.985734Z",
     "iopub.status.busy": "2022-05-08T13:36:09.985193Z",
     "iopub.status.idle": "2022-05-08T13:36:10.332625Z",
     "shell.execute_reply": "2022-05-08T13:36:10.331964Z",
     "shell.execute_reply.started": "2022-05-08T13:36:09.985697Z"
    }
   },
   "outputs": [
    {
     "data": {
      "image/png": "[encoded data removed]",
      "text/plain": [
       "<Figure size 1152x432 with 1 Axes>"
      ]
     },
     "metadata": {
      "needs_background": "light"
     },
     "output_type": "display_data"
    }
   ],
   "source": [
    "y_pred = model.predict(test_x)\n",
    "y_pred = np.reshape(y_pred, (y_pred.shape[0],))\n",
    "\n",
    "plt.figure(figsize=(16,6))\n",
    "plt.title('Close Price History')\n",
    "plt.plot(pd.DataFrame({\"fact\": test_y*st[\"APPLE\"]+mu[\"APPLE\"], \"pred\": y_pred*st[\"APPLE\"]+mu[\"APPLE\"]}), alpha=.8)\n",
    "plt.xlabel('Date', fontsize=18)\n",
    "plt.ylabel('Price', fontsize=18)\n",
    "plt.legend(['fact', 'pred'], loc='upper left')\n",
    "plt.show()"
   ]
  },
  {
   "cell_type": "code",
   "execution_count": 39,
   "metadata": {},
   "outputs": [],
   "source": [
    "model.save(\"res_lstm.h5\")"
   ]
  },
  {
   "cell_type": "markdown",
   "metadata": {},
   "source": [
    "## Testing the Accuracy"
   ]
  },
  {
   "cell_type": "code",
   "execution_count": 40,
   "metadata": {
    "execution": {
     "iopub.execute_input": "2022-05-08T13:36:13.935863Z",
     "iopub.status.busy": "2022-05-08T13:36:13.935432Z",
     "iopub.status.idle": "2022-05-08T13:36:13.949924Z",
     "shell.execute_reply": "2022-05-08T13:36:13.949201Z",
     "shell.execute_reply.started": "2022-05-08T13:36:13.935829Z"
    }
   },
   "outputs": [],
   "source": [
    "def heatmap(df):\n",
    "    plt.figure(figsize = (6, 5))\n",
    "    sns.set(font_scale=1.5)\n",
    "    sns.heatmap(df, annot = True, cmap = \"RdBu\", linewidths = 0.05, annot_kws = {\"size\": 30})\n",
    "    plt.show()\n",
    "\n",
    "def score(pred_y, y, show=False, mute=False):\n",
    "    \"\"\"\n",
    "        Args:\n",
    "            pred_y: our model's prediction\n",
    "            y: the actual result\n",
    "            show: whether show the visualization\n",
    "            mute: default to be False. If true, nothing will be printed\n",
    "        Returns:\n",
    "            1. the accurary\n",
    "            2. the f1-score (acc as positive)\n",
    "            3. the f1-score (unacc as positive)\n",
    "    \"\"\"\n",
    "    y = pd.DataFrame(list(y))\n",
    "    pred_y = pd.DataFrame(pred_y)# Change the numbers into strings\n",
    "    if (pred_y[pred_y.columns[0]]==1).any():\n",
    "        pred_y[pred_y[pred_y.columns[0]]==1] = \"acc\"\n",
    "        pred_y[pred_y[pred_y.columns[0]]==-1] = \"unacc\"\n",
    "        y[y[y.columns[0]]==1] = \"acc\"\n",
    "        y[y[y.columns[0]]==-1] = \"unacc\"\n",
    "    idx_yn = np.array(y==\"unacc\")\n",
    "    idx_yp = ~idx_yn\n",
    "    \n",
    "    y_n = y[idx_yn]\n",
    "    pred_y_n = pred_y[idx_yn]\n",
    "    y_p = y[idx_yp]\n",
    "    pred_y_p = pred_y[idx_yp]\n",
    "    \n",
    "    tp = (y_p==pred_y_p).sum()\n",
    "    tn = (y_n==pred_y_n).sum()\n",
    "    fp = (y_p!=pred_y_p).sum()\n",
    "    fn = (y_n!=pred_y_n).sum()\n",
    "    \n",
    "    acc = (tp+tn)/len(y)\n",
    "    precision = tp/(tp + fp)\n",
    "    recall = tp/(tp + fn)\n",
    "    f1_p = 2 * precision * recall / (precision + recall)\n",
    "    precision = tn/(tn + fn)\n",
    "    recall = tn/(tn + fp)\n",
    "    f1_n = 2 * precision * recall / (precision + recall)\n",
    "    \n",
    "    if mute:\n",
    "        return acc, f1_p, f1_n\n",
    "    print(\"Using acc as positive:\")\n",
    "    print(\"\\tThe accuracy: %f\"%acc)\n",
    "    print(\"\\tThe F1-score: %f\"%f1_p)\n",
    "    print(\"Using unacc as positive:\")\n",
    "    print(\"\\tThe accuracy: %f\"%acc)\n",
    "    print(\"\\tThe F1-score: %f\"%f1_n)\n",
    "    if show:\n",
    "        tmp = pd.DataFrame({\"pred Pos\":[tp[0], fp[0]], \"pred Neg\":[fn[0], tn[0]]},\n",
    "        index=[\"real Pos\", \"real Neg\"])\n",
    "        heatmap(tmp)\n",
    "    return acc, f1_p, f1_n"
   ]
  },
  {
   "cell_type": "code",
   "execution_count": 41,
   "metadata": {
    "execution": {
     "iopub.execute_input": "2022-05-08T13:36:14.854735Z",
     "iopub.status.busy": "2022-05-08T13:36:14.854204Z",
     "iopub.status.idle": "2022-05-08T13:36:15.074961Z",
     "shell.execute_reply": "2022-05-08T13:36:15.074257Z",
     "shell.execute_reply.started": "2022-05-08T13:36:14.854697Z"
    }
   },
   "outputs": [
    {
     "name": "stdout",
     "output_type": "stream",
     "text": [
      "Using acc as positive:\n",
      "\tThe accuracy: 0.529412\n",
      "\tThe F1-score: 0.488722\n",
      "Using unacc as positive:\n",
      "\tThe accuracy: 0.529412\n",
      "\tThe F1-score: 0.564103\n"
     ]
    },
    {
     "data": {
      "image/png": "[encoded data removed]",
      "text/plain": [
       "<Figure size 432x360 with 2 Axes>"
      ]
     },
     "metadata": {
      "needs_background": "light"
     },
     "output_type": "display_data"
    },
    {
     "data": {
      "text/plain": [
       "(0    0.529412\n",
       " dtype: float64, 0    0.488722\n",
       " dtype: float64, 0    0.564103\n",
       " dtype: float64)"
      ]
     },
     "execution_count": 41,
     "metadata": {},
     "output_type": "execute_result"
    }
   ],
   "source": [
    "def get_trend(value):\n",
    "    trend = value[:-1] - value[1:]\n",
    "    trend[trend > 0] = 1\n",
    "    trend[trend < 0] = -1\n",
    "    return trend\n",
    "\n",
    "pred_trend  = get_trend(y_pred)\n",
    "truth_trend = get_trend(test_y)\n",
    "score(pred_trend, truth_trend, show = True)"
   ]
  },
  {
   "cell_type": "code",
   "execution_count": null,
   "metadata": {},
   "outputs": [],
   "source": []
  },
  {
   "cell_type": "code",
   "execution_count": null,
   "metadata": {},
   "outputs": [],
   "source": []
  }
 ],
 "metadata": {
  "kernelspec": {
   "display_name": "python37_test1",
   "language": "python",
   "name": "python37_test1"
  },
  "language_info": {
   "codemirror_mode": {
    "name": "ipython",
    "version": 3
   },
   "file_extension": ".py",
   "mimetype": "text/x-python",
   "name": "python",
   "nbconvert_exporter": "python",
   "pygments_lexer": "ipython3",
   "version": "3.7.3"
  }
 },
 "nbformat": 4,
 "nbformat_minor": 4
}
